{
 "cells": [
  {
   "cell_type": "code",
   "execution_count": 1,
   "id": "3ede1494-4eaf-4667-826f-646d41587de3",
   "metadata": {},
   "outputs": [],
   "source": [
    "import re\n",
    "import pandas as pd\n",
    "import matplotlib.pyplot as plt\n",
    "import matplotlib as mpl\n",
    "from sklearn import metrics\n",
    "from sklearn.model_selection import train_test_split\n",
    "import catboost as cb\n",
    "import os\n",
    "from IPython import embed\n",
    "from datetime import date\n",
    "from sklearn.preprocessing import MinMaxScaler\n",
    "import numpy as np\n",
    "import statsmodels\n",
    "import warnings"
   ]
  },
  {
   "cell_type": "code",
   "execution_count": 3,
   "id": "c92ab239-8dd4-4f4d-b572-a03073cfcc81",
   "metadata": {},
   "outputs": [],
   "source": [
    "base_path = os.getcwd()\n",
    "selected_columns = ['precipitacao (mm)-1','temperatura (°C)-1','umidade ar (%)-1','t-1','t-2','t-3','densidade_demografica']\n",
    "target = 'dengue_diagnosis'\n",
    "df_input = pd.read_csv(base_path+'/dengue_RIO_POA.csv', sep=';')\n",
    "months = list(range(1, 13))"
   ]
  },
  {
   "cell_type": "code",
   "execution_count": null,
   "id": "d606544f-a848-4e3b-ba8b-035bd07a213e",
   "metadata": {},
   "outputs": [],
   "source": [
    "def prepare _df(ano_teste=2020,mes_inicio_teste=1, meses_previsao=1)\n",
    "    df_input['data'] = df_input[['ano', 'mes' ]].apply(lambda x: date(x[0], x[1]), axis = 1)\n",
    "    list_data_test = list()"
   ]
  }
 ],
 "metadata": {
  "kernelspec": {
   "display_name": "Python 3 (ipykernel)",
   "language": "python",
   "name": "python3"
  },
  "language_info": {
   "codemirror_mode": {
    "name": "ipython",
    "version": 3
   },
   "file_extension": ".py",
   "mimetype": "text/x-python",
   "name": "python",
   "nbconvert_exporter": "python",
   "pygments_lexer": "ipython3",
   "version": "3.10.12"
  }
 },
 "nbformat": 4,
 "nbformat_minor": 5
}
